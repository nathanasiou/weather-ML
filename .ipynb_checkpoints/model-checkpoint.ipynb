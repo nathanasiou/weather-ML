{
 "cells": [
  {
   "cell_type": "code",
   "execution_count": 1,
   "id": "f2321bc9",
   "metadata": {},
   "outputs": [],
   "source": [
    "# preliminaries\n",
    "\n",
    "import matplotlib.pyplot as plt\n",
    "from sklearn.metrics import accuracy_score\n",
    "from sklearn.model_selection import train_test_split\n",
    "from sklearn.pipeline import Pipeline\n",
    "from sklearn.tree import DecisionTreeClassifier\n",
    "\n",
    "from sktime.classification.compose import ComposableTimeSeriesForestClassifier\n",
    "from sktime.datasets import load_arrow_head\n",
    "from sktime.utils.slope_and_trend import _slope\n",
    "\n",
    "from sktime.utils.plotting import plot_series\n",
    "\n",
    "from sktime.classification.compose import ColumnEnsembleClassifier\n",
    "from sktime.classification.interval_based import TimeSeriesForestClassifier\n",
    "from sktime.classification.dictionary_based import BOSSEnsemble\n"
   ]
  },
  {
   "cell_type": "code",
   "execution_count": 2,
   "id": "641cb00f",
   "metadata": {},
   "outputs": [
    {
     "data": {
      "text/plain": [
       "DATE     object\n",
       "PRCP    float64\n",
       "SNOW    float64\n",
       "TAVG    float64\n",
       "TMAX    float64\n",
       "TMIN    float64\n",
       "dtype: object"
      ]
     },
     "execution_count": 2,
     "metadata": {},
     "output_type": "execute_result"
    }
   ],
   "source": [
    "import numpy as np\n",
    "import pandas as pd\n",
    "\n",
    "# load data and fix issues w original\n",
    "\n",
    "weather = pd.read_csv('madweather.csv')\n",
    "del weather['Unnamed: 0']\n",
    "weather.head()\n",
    "weather.dtypes"
   ]
  },
  {
   "cell_type": "code",
   "execution_count": 3,
   "id": "fcd42f92",
   "metadata": {},
   "outputs": [],
   "source": [
    "# change data from object to datetime\n",
    "weather['DATE'] = pd.to_datetime(weather.DATE)\n",
    "data = weather.drop(['DATE'], axis = 1)\n",
    "data.index = weather.DATE"
   ]
  },
  {
   "cell_type": "code",
   "execution_count": 4,
   "id": "65e74e21",
   "metadata": {},
   "outputs": [],
   "source": [
    "# missing values\n",
    "cols = data.columns\n",
    "for j in cols:\n",
    "    for i in range(0, len(data)):\n",
    "        if data[j][i] == -200:\n",
    "            data[j][i] = data[j][i-1]"
   ]
  },
  {
   "cell_type": "code",
   "execution_count": 6,
   "id": "45863758",
   "metadata": {},
   "outputs": [
    {
     "data": {
      "text/html": [
       "<div>\n",
       "<style scoped>\n",
       "    .dataframe tbody tr th:only-of-type {\n",
       "        vertical-align: middle;\n",
       "    }\n",
       "\n",
       "    .dataframe tbody tr th {\n",
       "        vertical-align: top;\n",
       "    }\n",
       "\n",
       "    .dataframe thead th {\n",
       "        text-align: right;\n",
       "    }\n",
       "</style>\n",
       "<table border=\"1\" class=\"dataframe\">\n",
       "  <thead>\n",
       "    <tr style=\"text-align: right;\">\n",
       "      <th></th>\n",
       "      <th>PRCP</th>\n",
       "      <th>SNOW</th>\n",
       "      <th>TAVG</th>\n",
       "      <th>TMAX</th>\n",
       "      <th>TMIN</th>\n",
       "    </tr>\n",
       "    <tr>\n",
       "      <th>DATE</th>\n",
       "      <th></th>\n",
       "      <th></th>\n",
       "      <th></th>\n",
       "      <th></th>\n",
       "      <th></th>\n",
       "    </tr>\n",
       "  </thead>\n",
       "  <tbody>\n",
       "    <tr>\n",
       "      <th>1900-01-01</th>\n",
       "      <td>0.69</td>\n",
       "      <td>4.5</td>\n",
       "      <td>23.7</td>\n",
       "      <td>30.8</td>\n",
       "      <td>16.6</td>\n",
       "    </tr>\n",
       "    <tr>\n",
       "      <th>1900-02-01</th>\n",
       "      <td>1.26</td>\n",
       "      <td>9.1</td>\n",
       "      <td>13.0</td>\n",
       "      <td>21.5</td>\n",
       "      <td>4.5</td>\n",
       "    </tr>\n",
       "    <tr>\n",
       "      <th>1900-03-01</th>\n",
       "      <td>1.33</td>\n",
       "      <td>12.5</td>\n",
       "      <td>25.1</td>\n",
       "      <td>32.3</td>\n",
       "      <td>17.9</td>\n",
       "    </tr>\n",
       "    <tr>\n",
       "      <th>1900-04-01</th>\n",
       "      <td>1.31</td>\n",
       "      <td>5.0</td>\n",
       "      <td>48.0</td>\n",
       "      <td>57.8</td>\n",
       "      <td>38.3</td>\n",
       "    </tr>\n",
       "    <tr>\n",
       "      <th>1900-05-01</th>\n",
       "      <td>1.87</td>\n",
       "      <td>0.0</td>\n",
       "      <td>60.5</td>\n",
       "      <td>70.9</td>\n",
       "      <td>50.2</td>\n",
       "    </tr>\n",
       "  </tbody>\n",
       "</table>\n",
       "</div>"
      ],
      "text/plain": [
       "            PRCP  SNOW  TAVG  TMAX  TMIN\n",
       "DATE                                    \n",
       "1900-01-01  0.69   4.5  23.7  30.8  16.6\n",
       "1900-02-01  1.26   9.1  13.0  21.5   4.5\n",
       "1900-03-01  1.33  12.5  25.1  32.3  17.9\n",
       "1900-04-01  1.31   5.0  48.0  57.8  38.3\n",
       "1900-05-01  1.87   0.0  60.5  70.9  50.2"
      ]
     },
     "execution_count": 6,
     "metadata": {},
     "output_type": "execute_result"
    }
   ],
   "source": [
    "data.head()"
   ]
  },
  {
   "cell_type": "code",
   "execution_count": 7,
   "id": "9623fa4a",
   "metadata": {},
   "outputs": [],
   "source": [
    "# split into test and train\n",
    "train = data[:int(0.8*(len(data)))]\n",
    "test = data[int(0.8*(len(data))):]\n"
   ]
  },
  {
   "cell_type": "code",
   "execution_count": 8,
   "id": "b0760198",
   "metadata": {},
   "outputs": [],
   "source": [
    "from statsmodels.tsa.vector_ar.var_model import VAR"
   ]
  },
  {
   "cell_type": "code",
   "execution_count": null,
   "id": "db8e107b",
   "metadata": {},
   "outputs": [],
   "source": [
    "model = VAR(endog=train)\n",
    "model_fit = model.fit()"
   ]
  },
  {
   "cell_type": "code",
   "execution_count": null,
   "id": "874500bd",
   "metadata": {},
   "outputs": [],
   "source": []
  },
  {
   "cell_type": "code",
   "execution_count": null,
   "id": "7cef31af",
   "metadata": {},
   "outputs": [],
   "source": []
  }
 ],
 "metadata": {
  "kernelspec": {
   "display_name": "Python 3",
   "language": "python",
   "name": "python3"
  },
  "language_info": {
   "codemirror_mode": {
    "name": "ipython",
    "version": 3
   },
   "file_extension": ".py",
   "mimetype": "text/x-python",
   "name": "python",
   "nbconvert_exporter": "python",
   "pygments_lexer": "ipython3",
   "version": "3.8.5"
  }
 },
 "nbformat": 4,
 "nbformat_minor": 5
}
