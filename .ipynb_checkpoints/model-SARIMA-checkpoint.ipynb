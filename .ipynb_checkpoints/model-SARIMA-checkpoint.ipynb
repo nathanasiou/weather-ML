{
 "cells": [
  {
   "cell_type": "code",
   "execution_count": 1,
   "id": "65e35056",
   "metadata": {},
   "outputs": [],
   "source": [
    "## Exploratory Data Analysis"
   ]
  },
  {
   "cell_type": "code",
   "execution_count": null,
   "id": "c3b4b185",
   "metadata": {},
   "outputs": [],
   "source": [
    "# import preliminaries\n",
    "import numpy as np\n",
    "import pandas as pd\n",
    "import matplotlib.pyplot as plt\n",
    "import seaborn as sns\n",
    "import warnings\n",
    "warnings.simplefilter(action='ignore', category=FutureWarning)\n",
    "\n",
    "weather = pd.read_csv('madweather.csv', parse_dates = ['DATE'], sep=',', infer_datetime_format = True)\n",
    "weather.sort_values(\"DATE\", axis = 0, ascending = True,inplace = True) \n",
    "\n",
    "# check shape\n",
    "print(weather.shape)\n",
    "\n",
    "#select datetime and temperature columns bc multivariate is too difficult\n",
    "dprcp = weather[['DATE', 'PRCP']]\n",
    "#fill missing \n",
    "dprcp = dprcp.fillna(method=\"ffill\")\n",
    "# set index\n",
    "dprcp.set_index('DATE',inplace=True)\n",
    "dprcp.head(10)"
   ]
  },
  {
   "cell_type": "code",
   "execution_count": null,
   "id": "473935a9",
   "metadata": {},
   "outputs": [],
   "source": [
    "dprcp.describe()"
   ]
  },
  {
   "cell_type": "code",
   "execution_count": null,
   "id": "eee8b44c",
   "metadata": {},
   "outputs": [],
   "source": [
    "# plot\n",
    "# choosing prcp over other variables in orig dataset bc has least missing data\n",
    "%pylab\n",
    "%matplotlib inline\n",
    "plt.figure(figsize(16,10), dpi=100)\n",
    "plt.plot(dprcp.index, dprcp.PRCP, color = 'tab:blue')\n",
    "plt.gca().set(title=\"Monthly Precipitation in Madison, WI from 1900 to 2020\", xlabel = 'Date', ylabel=\"Precipitation (in)\")"
   ]
  },
  {
   "cell_type": "code",
   "execution_count": null,
   "id": "fdc7b219",
   "metadata": {},
   "outputs": [],
   "source": [
    "prcp_mean = dprcp.PRCP.rolling(window=12).mean()\n",
    "prcp_mean.plot()"
   ]
  },
  {
   "cell_type": "code",
   "execution_count": null,
   "id": "495659ac",
   "metadata": {},
   "outputs": [],
   "source": [
    "# decompose\n",
    "from statsmodels.tsa.seasonal import seasonal_decompose\n",
    "result_add = seasonal_decompose(dprcp.PRCP[:], model = 'additive', extrapolate_trend = 'freq', freq = 91)\n",
    "\n",
    "# plot\n",
    "plt.rcParams.update({'figure.figsize': (10,15)})\n",
    "result_add.plot().suptitle('Additive Decompositiion')\n",
    "# reasonably stable"
   ]
  },
  {
   "cell_type": "code",
   "execution_count": null,
   "id": "8a99d2dd",
   "metadata": {},
   "outputs": [],
   "source": [
    "## baseline model"
   ]
  },
  {
   "cell_type": "code",
   "execution_count": null,
   "id": "c184df5e",
   "metadata": {},
   "outputs": [],
   "source": [
    "# 1-step prediction\n",
    "# shift current month temp to next month\n",
    "predicted = (dprcp['PRCP'].to_frame().shift(1).rename(columns = {'PRCP': 'PRCP_pred'}))\n",
    "actual = (dprcp['PRCP'].to_frame().rename(columns = {'PRCP': 'PRCP_actual'}))\n",
    "\n",
    "# concatenate\n",
    "one_step_df = pd.concat([actual, predicted], axis=1)\n",
    "\n",
    "one_step_df = one_step_df[1:]\n",
    "one_step_df.tail()\n"
   ]
  },
  {
   "cell_type": "code",
   "execution_count": null,
   "id": "35143241",
   "metadata": {},
   "outputs": [],
   "source": [
    "# check RMSE to validate how well model is performing\n",
    "from sklearn.metrics import mean_squared_error as MSE\n",
    "from math import sqrt\n",
    "\n",
    "prcp_pred_err = sqrt(MSE(one_step_df.PRCP_actual, one_step_df.PRCP_pred))\n",
    "print('RMSE:',prcp_pred_err)\n",
    "mape = np.mean(np.abs(one_step_df.PRCP_pred - one_step_df.PRCP_actual)/np.abs(one_step_df.PRCP_actual))\n",
    "print('MAPE of forecasts:', mape)"
   ]
  },
  {
   "cell_type": "code",
   "execution_count": null,
   "id": "52e14af4",
   "metadata": {},
   "outputs": [],
   "source": [
    "# small enough that we can use baseline model to predict upcoming month's precipitation withh arror of 2.6 in. \n",
    "# weather predictions are often wrong so we accept this"
   ]
  },
  {
   "cell_type": "code",
   "execution_count": null,
   "id": "a0dccb5f",
   "metadata": {},
   "outputs": [],
   "source": [
    "import itertools\n",
    "p = d = q = range(0,2)\n",
    "pdq = list(itertools.product(p,d,q))\n",
    "seasonal_pdq = [(x[0], x[1], x[2], 12) for x in list(itertools.product(p,d,q))]\n"
   ]
  },
  {
   "cell_type": "code",
   "execution_count": null,
   "id": "964f5839",
   "metadata": {},
   "outputs": [],
   "source": [
    "# SARIMA model\n",
    "# grid search to explore combos of params, fit new SARIMA to each\n",
    "import statsmodels.api as sm\n",
    "import warnings\n",
    "warnings.filterwarnings('ignore')\n",
    "\n",
    "for param in pdq:\n",
    "    for param_seasonal in seasonal_pdq:\n",
    "        try:\n",
    "            mod = sm.tsa.statespace.SARIMAX(one_step_df.PRCP_actual,\n",
    "                                           order = param,\n",
    "                                           seasonal_order = param_seasonal,\n",
    "                                           enforce_stationarity = False,\n",
    "                                           enforce_invertibility = False)\n",
    "            \n",
    "            results = mod.fit()\n",
    "            \n",
    "            print(('SARIMA{}x{}12 - AIC:{}').format(param,param_seasonal,results.aic))\n",
    "        except:\n",
    "            continue"
   ]
  },
  {
   "cell_type": "code",
   "execution_count": null,
   "id": "e3f7847d",
   "metadata": {},
   "outputs": [],
   "source": [
    " # SARIMA(0, 1, 1)x(0, 1, 1, 12)12  yields lowest AIC values of 5547. We consider this the optimal option out of all models considered."
   ]
  },
  {
   "cell_type": "code",
   "execution_count": null,
   "id": "6d52f6b2",
   "metadata": {},
   "outputs": [],
   "source": [
    "# fit model"
   ]
  },
  {
   "cell_type": "code",
   "execution_count": null,
   "id": "9adbcad3",
   "metadata": {},
   "outputs": [],
   "source": [
    "import statsmodels.api as sm\n",
    "mod = sm.tsa.statespace.SARIMAX(one_step_df.PRCP_actual,\n",
    "                               order = (0,0,1),\n",
    "                               seasonal_order = (0,1,1,12),\n",
    "                               enforce_stationarity = False,\n",
    "                               enforce_inveribility = False)\n",
    "\n",
    "results = mod.fit()"
   ]
  },
  {
   "cell_type": "code",
   "execution_count": null,
   "id": "ca968553",
   "metadata": {},
   "outputs": [],
   "source": [
    "# model diagnostics"
   ]
  },
  {
   "cell_type": "code",
   "execution_count": null,
   "id": "e6ac1ff1",
   "metadata": {},
   "outputs": [],
   "source": [
    "results.plot_diagnostics()\n",
    "# We can see in top right that orange KDE line follows loosely with N(0,1) line. This is okay indicator of normally distributed residuals. The qq-plot shows a linear trend with some deviations at the head and tail. The residuals over time in the top left do not show obvious seasonality. \n",
    "# satisfactory fit\n"
   ]
  },
  {
   "cell_type": "code",
   "execution_count": null,
   "id": "4a550685",
   "metadata": {},
   "outputs": [],
   "source": [
    "#let's validate!\n",
    "pred = results.get_prediction(start = pd.to_datetime('1996-01-01'), dynamic = False)\n",
    "pred_ci = pred.conf_int()"
   ]
  },
  {
   "cell_type": "code",
   "execution_count": null,
   "id": "68d62d4a",
   "metadata": {},
   "outputs": [],
   "source": [
    "# non-dynamic forecast\n",
    "ax = one_step_df.PRCP_actual['1900-01-01':].plot(label='observed')\n",
    "pred.predicted_mean.plot(ax=ax, label='Forecast')\n",
    "\n",
    "ax.fill_between(pred_ci.index,\n",
    "               pred_ci.iloc[:,0],\n",
    "               pred_ci.iloc[:,1], color='k', alpha=.08)\n",
    "\n",
    "ax.set_xlabel('Date')\n",
    "ax.set_ylabel('Precipitation (in Inches)')\n",
    "plt.ylim([0,8])\n",
    "plt.legend()"
   ]
  },
  {
   "cell_type": "code",
   "execution_count": null,
   "id": "4076643c",
   "metadata": {},
   "outputs": [],
   "source": [
    "y_forecasted = pred.predicted_mean\n",
    "y_truth = one_step_df.PRCP_actual['1996-01-01':]\n",
    "print(y_forecasted.shape)\n",
    "print(y_truth.shape)\n",
    "mse = sqrt(MSE(y_truth, y_forecasted).mean())\n",
    "print('MSE of forecasts:',(round(mse,3)))\n",
    "mape = np.mean(np.abs(y_forecasted - y_truth)/np.abs(y_truth))\n",
    "print('MAPE of forecasts:', mape)"
   ]
  },
  {
   "cell_type": "code",
   "execution_count": null,
   "id": "0e1bfab2",
   "metadata": {},
   "outputs": [],
   "source": [
    "# dynamic forecast\n",
    "pred_dynamic = results.get_prediction(start=pd.to_datetime('1996-01-01'), dynamic=True, full_results=True)\n",
    "pred_dynamic_ci = pred_dynamic.conf_int()"
   ]
  },
  {
   "cell_type": "code",
   "execution_count": null,
   "id": "5e99d294",
   "metadata": {},
   "outputs": [],
   "source": [
    "ax = one_step_df.PRCP_actual['1900':].plot(label='observed')\n",
    "pred_dynamic.predicted_mean.plot(ax=ax, label='Dynamic Forecast')\n",
    "\n",
    "ax.fill_between(pred_dynamic_ci.index,\n",
    "               pred_dynamic_ci.iloc[:,0],\n",
    "               pred_dynamic_ci.iloc[:,1], color='k', alpha=.2)\n",
    "\n",
    "ax.set_xlabel('Date')\n",
    "ax.set_ylabel('Precipitation (in Inches)')\n",
    "plt.ylim([0,12])\n",
    "plt.legend()\n",
    "\n",
    "ax.fill_between(pred_dynamic_ci.index,\n",
    "               pred_dynamic_ci.iloc[:,0],\n",
    "               pred_dynamic_ci.iloc[:,1], color='k', alpha=.2)\n",
    "\n",
    "ax.set_xlabel('Date')\n",
    "ax.set_ylabel('Precipitation (in Inches)')\n",
    "plt.ylim([0,12])\n",
    "plt.xlim(['1980-01-01','2020-01-01'])\n",
    "plt.legend()"
   ]
  },
  {
   "cell_type": "code",
   "execution_count": null,
   "id": "415b751b",
   "metadata": {},
   "outputs": [],
   "source": [
    "y_forecasted = pred_dynamic.predicted_mean\n",
    "y_truth = one_step_df.PRCP_actual['1996-01-01':]\n",
    "print(y_forecasted.shape)\n",
    "print(y_truth.shape)\n",
    "mse = sqrt(MSE(y_truth, y_forecasted).mean())\n",
    "print('MSE of forecasts:',(round(mse,3)))\n",
    "mape = np.mean(np.abs(y_forecasted - y_truth)/np.abs(y_truth))\n",
    "print(mape)\n",
    "# mse is higher, which makes sense bc relying on less historical data from time series"
   ]
  },
  {
   "cell_type": "code",
   "execution_count": null,
   "id": "263805ae",
   "metadata": {},
   "outputs": [],
   "source": [
    "# chunk 1\n",
    "pred1 = results.get_prediction(start=pd.to_datetime('1935-02-01'),end = pd.to_datetime('1940-01-01'), dynamic = False)\n",
    "pred1_ci = pred.conf_int()\n",
    "\n",
    "ax = one_step_df.PRCP_actual['1900-02-01':'1940-01-01'].plot(label='observed')\n",
    "pred1.predicted_mean.plot(ax=ax, label='Forecast')\n",
    "\n",
    "ax.fill_between(pred1_ci.index,\n",
    "               pred1_ci.iloc[:,0],\n",
    "               pred1_ci.iloc[:,1], color='k', alpha=.08)\n",
    "\n",
    "ax.set_xlabel('Date')\n",
    "ax.set_ylabel('Precipitation (in Inches)')\n",
    "plt.ylim([0,12])\n",
    "plt.xlim(['1900-01-01','1940-01-01'])\n",
    "plt.legend()\n",
    "\n"
   ]
  },
  {
   "cell_type": "code",
   "execution_count": null,
   "id": "4437fbd4",
   "metadata": {},
   "outputs": [],
   "source": [
    "y1_forecasted = pred1.predicted_mean\n",
    "y1_truth = one_step_df.PRCP_actual['1935-02-01':'1940-01-01']\n",
    "print(y1_forecasted.shape)\n",
    "print(y1_truth.shape)\n",
    "mse = sqrt(MSE(y1_truth, y1_forecasted).mean())\n",
    "print('MSE of forecasts:',(round(mse,3)))\n",
    "mape = np.mean(np.abs(np.array(y1_forecasted) - np.array(y1_truth))/np.abs(np.array(y1_truth)))\n",
    "print('MAPE of forecasts:', mape)"
   ]
  },
  {
   "cell_type": "code",
   "execution_count": null,
   "id": "1793b4b1",
   "metadata": {},
   "outputs": [],
   "source": [
    "# chunk 2\n",
    "pred2 = results.get_prediction(start=pd.to_datetime('1975-02-01'),end = pd.to_datetime('1980-02-01'), dynamic = False)\n",
    "pred2_ci = pred.conf_int()\n",
    "\n",
    "ax = one_step_df.PRCP_actual['1940-02-01':'1980-02-01'].plot(label='observed')\n",
    "pred2.predicted_mean.plot(ax=ax, label='Forecast')\n",
    "\n",
    "ax.fill_between(pred2_ci.index,\n",
    "               pred2_ci.iloc[:,0],\n",
    "               pred2_ci.iloc[:,1], color='k', alpha=.08)\n",
    "\n",
    "ax.set_xlabel('Date')\n",
    "ax.set_ylabel('Precipitation (in Inches)')\n",
    "plt.ylim([0,12])\n",
    "plt.xlim(['1940-02-01','1980-02-01'])\n",
    "plt.legend()\n",
    "plt.show()\n",
    "\n",
    "y2_forecasted = pred2.predicted_mean\n",
    "y2_truth = one_step_df.PRCP_actual['1975-02-01':'1980-02-01']\n",
    "print(y2_forecasted.shape)\n",
    "print(y2_truth.shape)\n",
    "mse = sqrt(MSE(y2_truth, y2_forecasted).mean())\n",
    "print('MSE of forecasts:',(round(mse,3)))\n",
    "mape = np.mean(np.abs(y2_forecasted - y2_truth)/np.abs(y2_truth))\n",
    "print('MAPE of forecasts:', mape)"
   ]
  },
  {
   "cell_type": "code",
   "execution_count": null,
   "id": "6103bd15",
   "metadata": {},
   "outputs": [],
   "source": [
    "# chunk 3\n",
    "pred3 = results.get_prediction(start=pd.to_datetime('2015-03-01'),end = pd.to_datetime('2019-03-01'), dynamic = False)\n",
    "pred3_ci = pred.conf_int()\n",
    "\n",
    "ax = one_step_df.PRCP_actual['1980-02-01':'2019-03-01'].plot(label='observed')\n",
    "pred3.predicted_mean.plot(ax=ax, label='Forecast')\n",
    "\n",
    "ax.fill_between(pred3_ci.index,\n",
    "               pred3_ci.iloc[:,0],\n",
    "               pred3_ci.iloc[:,1], color='k', alpha=.08)\n",
    "\n",
    "ax.set_xlabel('Date')\n",
    "ax.set_ylabel('Precipitation (in Inches)')\n",
    "plt.ylim([0,12])\n",
    "plt.xlim(['1980-03-01','2019-03-01'])\n",
    "plt.legend()\n",
    "\n",
    "y3_forecasted = pred3.predicted_mean\n",
    "y3_truth = one_step_df.PRCP_actual['2015-03-01':'2019-03-01']\n",
    "print(y3_forecasted.shape)\n",
    "print(y3_truth.shape)\n",
    "mse = sqrt(MSE(y3_truth, y3_forecasted).mean())\n",
    "print('MSE of forecasts:',(round(mse,3)))\n",
    "mape = np.mean(np.abs(y3_forecasted - y3_truth)/np.abs(y3_truth))\n",
    "print('MAPE of forecasts:', mape)"
   ]
  }
 ],
 "metadata": {
  "kernelspec": {
   "display_name": "Python 3",
   "language": "python",
   "name": "python3"
  },
  "language_info": {
   "codemirror_mode": {
    "name": "ipython",
    "version": 3
   },
   "file_extension": ".py",
   "mimetype": "text/x-python",
   "name": "python",
   "nbconvert_exporter": "python",
   "pygments_lexer": "ipython3",
   "version": "3.8.5"
  }
 },
 "nbformat": 4,
 "nbformat_minor": 5
}
