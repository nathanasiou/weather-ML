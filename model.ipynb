{
 "cells": [
  {
   "cell_type": "code",
   "execution_count": 1,
   "id": "efb315d7",
   "metadata": {},
   "outputs": [
    {
     "ename": "ModuleNotFoundError",
     "evalue": "No module named 'matplotlib'",
     "output_type": "error",
     "traceback": [
      "\u001b[1;31m---------------------------------------------------------------------------\u001b[0m",
      "\u001b[1;31mModuleNotFoundError\u001b[0m                       Traceback (most recent call last)",
      "\u001b[1;32m~\\AppData\\Local\\Temp/ipykernel_18884/1814882933.py\u001b[0m in \u001b[0;36m<module>\u001b[1;34m\u001b[0m\n\u001b[0;32m      1\u001b[0m \u001b[1;31m# preliminaries\u001b[0m\u001b[1;33m\u001b[0m\u001b[1;33m\u001b[0m\u001b[1;33m\u001b[0m\u001b[0m\n\u001b[0;32m      2\u001b[0m \u001b[1;33m\u001b[0m\u001b[0m\n\u001b[1;32m----> 3\u001b[1;33m \u001b[1;32mimport\u001b[0m \u001b[0mmatplotlib\u001b[0m\u001b[1;33m.\u001b[0m\u001b[0mpyplot\u001b[0m \u001b[1;32mas\u001b[0m \u001b[0mplt\u001b[0m\u001b[1;33m\u001b[0m\u001b[1;33m\u001b[0m\u001b[0m\n\u001b[0m\u001b[0;32m      4\u001b[0m \u001b[1;32mfrom\u001b[0m \u001b[0msklearn\u001b[0m\u001b[1;33m.\u001b[0m\u001b[0mmetrics\u001b[0m \u001b[1;32mimport\u001b[0m \u001b[0maccuracy_score\u001b[0m\u001b[1;33m\u001b[0m\u001b[1;33m\u001b[0m\u001b[0m\n\u001b[0;32m      5\u001b[0m \u001b[1;32mfrom\u001b[0m \u001b[0msklearn\u001b[0m\u001b[1;33m.\u001b[0m\u001b[0mmodel_selection\u001b[0m \u001b[1;32mimport\u001b[0m \u001b[0mtrain_test_split\u001b[0m\u001b[1;33m\u001b[0m\u001b[1;33m\u001b[0m\u001b[0m\n",
      "\u001b[1;31mModuleNotFoundError\u001b[0m: No module named 'matplotlib'"
     ]
    }
   ],
   "source": [
    "# preliminaries\n",
    "\n",
    "from sklearn.metrics import accuracy_score\n",
    "from sklearn.model_selection import train_test_split\n",
    "from sklearn.pipeline import Pipeline\n",
    "from sklearn.tree import DecisionTreeClassifier\n",
    "\n",
    "from sktime.classification.interval_based import TimeSeriesForestClassifier\n",
    "\n"
   ]
  },
  {
   "cell_type": "code",
   "execution_count": 2,
   "id": "641cb00f",
   "metadata": {},
   "outputs": [
    {
     "data": {
      "text/plain": [
       "DATE     object\n",
       "PRCP    float64\n",
       "SNOW    float64\n",
       "TAVG    float64\n",
       "TMAX    float64\n",
       "TMIN    float64\n",
       "dtype: object"
      ]
     },
     "execution_count": 2,
     "metadata": {},
     "output_type": "execute_result"
    }
   ],
   "source": [
    "import numpy as np\n",
    "import pandas as pd\n",
    "\n",
    "# load data and fix issues w original\n",
    "\n",
    "weather = pd.read_csv('madweather.csv')\n",
    "del weather['Unnamed: 0']\n",
    "weather.head()\n",
    "weather.dtypes"
   ]
  },
  {
   "cell_type": "code",
   "execution_count": 27,
   "id": "eb657a4a",
   "metadata": {},
   "outputs": [],
   "source": [
    "# change data from object to datetime\n",
    "weather['DATE'] = pd.to_datetime(weather.DATE, format = '%m/%Y')\n",
    "data = weather.drop(['DATE'], axis = 1)\n",
    "data.index = pd.DatetimeIndex(weather.index).to_period('M')"
   ]
  },
  {
   "cell_type": "code",
   "execution_count": 34,
   "id": "7c2ba57b",
   "metadata": {},
   "outputs": [],
   "source": [
    "# missing values\n",
    "cols = data.columns\n",
    "for j in cols:\n",
    "    for i in range(0, len(data)):\n",
    "        if data[j][i] == -200:\n",
    "            data[j][i] = data[j][i-1]\n",
    "\n",
    "data = data.replace(np.inf, np.nan).replace(-np.inf, np.nan).dropna()"
   ]
  },
  {
   "cell_type": "code",
   "execution_count": 32,
   "id": "dafbc03a",
   "metadata": {},
   "outputs": [],
   "source": [
    "from statsmodels.tsa.vector_ar.vecm import coint_johansen"
   ]
  },
  {
   "cell_type": "code",
   "execution_count": 35,
   "id": "aa367c75",
   "metadata": {},
   "outputs": [
    {
     "data": {
      "text/html": [
       "<div>\n",
       "<style scoped>\n",
       "    .dataframe tbody tr th:only-of-type {\n",
       "        vertical-align: middle;\n",
       "    }\n",
       "\n",
       "    .dataframe tbody tr th {\n",
       "        vertical-align: top;\n",
       "    }\n",
       "\n",
       "    .dataframe thead th {\n",
       "        text-align: right;\n",
       "    }\n",
       "</style>\n",
       "<table border=\"1\" class=\"dataframe\">\n",
       "  <thead>\n",
       "    <tr style=\"text-align: right;\">\n",
       "      <th></th>\n",
       "      <th>PRCP</th>\n",
       "      <th>SNOW</th>\n",
       "      <th>TAVG</th>\n",
       "      <th>TMAX</th>\n",
       "      <th>TMIN</th>\n",
       "    </tr>\n",
       "  </thead>\n",
       "  <tbody>\n",
       "    <tr>\n",
       "      <th>1970-01</th>\n",
       "      <td>0.69</td>\n",
       "      <td>4.5</td>\n",
       "      <td>23.7</td>\n",
       "      <td>30.8</td>\n",
       "      <td>16.6</td>\n",
       "    </tr>\n",
       "    <tr>\n",
       "      <th>1970-01</th>\n",
       "      <td>1.26</td>\n",
       "      <td>9.1</td>\n",
       "      <td>13.0</td>\n",
       "      <td>21.5</td>\n",
       "      <td>4.5</td>\n",
       "    </tr>\n",
       "    <tr>\n",
       "      <th>1970-01</th>\n",
       "      <td>1.33</td>\n",
       "      <td>12.5</td>\n",
       "      <td>25.1</td>\n",
       "      <td>32.3</td>\n",
       "      <td>17.9</td>\n",
       "    </tr>\n",
       "    <tr>\n",
       "      <th>1970-01</th>\n",
       "      <td>1.31</td>\n",
       "      <td>5.0</td>\n",
       "      <td>48.0</td>\n",
       "      <td>57.8</td>\n",
       "      <td>38.3</td>\n",
       "    </tr>\n",
       "    <tr>\n",
       "      <th>1970-01</th>\n",
       "      <td>1.87</td>\n",
       "      <td>0.0</td>\n",
       "      <td>60.5</td>\n",
       "      <td>70.9</td>\n",
       "      <td>50.2</td>\n",
       "    </tr>\n",
       "  </tbody>\n",
       "</table>\n",
       "</div>"
      ],
      "text/plain": [
       "         PRCP  SNOW  TAVG  TMAX  TMIN\n",
       "1970-01  0.69   4.5  23.7  30.8  16.6\n",
       "1970-01  1.26   9.1  13.0  21.5   4.5\n",
       "1970-01  1.33  12.5  25.1  32.3  17.9\n",
       "1970-01  1.31   5.0  48.0  57.8  38.3\n",
       "1970-01  1.87   0.0  60.5  70.9  50.2"
      ]
     },
     "execution_count": 35,
     "metadata": {},
     "output_type": "execute_result"
    }
   ],
   "source": [
    "data.head()\n"
   ]
  },
  {
   "cell_type": "code",
   "execution_count": 36,
   "id": "7ae653ce",
   "metadata": {},
   "outputs": [],
   "source": [
    "# split into test and train\n",
    "train = data[:int(0.8*(len(data)))]\n",
    "test = data[int(0.8*(len(data))):]\n"
   ]
  },
  {
   "cell_type": "code",
   "execution_count": 26,
   "id": "1475ac43",
   "metadata": {},
   "outputs": [],
   "source": [
    "from statsmodels.tsa.vector_ar.var_model import VAR"
   ]
  },
  {
   "cell_type": "code",
   "execution_count": 37,
   "id": "06a382e9",
   "metadata": {},
   "outputs": [],
   "source": [
    "model = VAR(endog=train)\n",
    "model_fit = model.fit(4)"
   ]
  },
  {
   "cell_type": "code",
   "execution_count": 38,
   "id": "48b1f021",
   "metadata": {},
   "outputs": [
    {
     "name": "stderr",
     "output_type": "stream",
     "text": [
      "C:\\Users\\nicol\\AppData\\Local\\R-MINI~1\\lib\\site-packages\\statsmodels\\base\\wrapper.py:34: FutureWarning: y is a deprecated alias for endog, will be removed in version 0.11.0\n",
      "  obj = getattr(results, attr)\n"
     ]
    }
   ],
   "source": [
    "prediction = model_fit.forecast(model_fit.y, steps = len(test))"
   ]
  },
  {
   "cell_type": "code",
   "execution_count": 40,
   "id": "38e98193",
   "metadata": {},
   "outputs": [],
   "source": [
    "# dataframe of predictions\n",
    "pred = pd.DataFrame(index=range(0,len(prediction)),columns=[cols])\n",
    "for j in range(0,5):\n",
    "    for i in range(0, len(prediction)):\n",
    "       pred.iloc[i][j] = prediction[i][j]"
   ]
  },
  {
   "cell_type": "code",
   "execution_count": 53,
   "id": "1d6b43b6",
   "metadata": {},
   "outputs": [
    {
     "name": "stdout",
     "output_type": "stream",
     "text": [
      "rmse value for PRCP is :  2.39785737737556\n",
      "rmse value for SNOW is :  7.541906508517674\n",
      "rmse value for TAVG is :  19.29496956298127\n",
      "rmse value for TMAX is :  20.301703321281227\n",
      "rmse value for TMIN is :  18.384211727630934\n"
     ]
    }
   ],
   "source": [
    "# check rmse\n",
    "from sklearn.metrics import mean_squared_error\n",
    "for i in cols:\n",
    "    print('rmse value for', i, 'is : ', np.sqrt(mean_squared_error(test[i], pred[i])))"
   ]
  },
  {
   "cell_type": "code",
   "execution_count": 55,
   "id": "016171f2",
   "metadata": {},
   "outputs": [
    {
     "name": "stdout",
     "output_type": "stream",
     "text": [
      "[[ 1.92191634  7.479183   29.41469217 37.60364039 21.22414481]]\n"
     ]
    },
    {
     "name": "stderr",
     "output_type": "stream",
     "text": [
      "C:\\Users\\nicol\\AppData\\Local\\R-MINI~1\\lib\\site-packages\\statsmodels\\base\\wrapper.py:34: FutureWarning: y is a deprecated alias for endog, will be removed in version 0.11.0\n",
      "  obj = getattr(results, attr)\n"
     ]
    }
   ],
   "source": [
    "#final predictions\n",
    "modelfin = VAR(endog=data)\n",
    "modelfin_fit = modelfin.fit()\n",
    "ypred = modelfin_fit.forecast(modelfin_fit.y, steps = 1)\n",
    "print(ypred)"
   ]
  }
 ],
 "metadata": {
  "kernelspec": {
   "display_name": "Python 3",
   "language": "python",
   "name": "python3"
  },
  "language_info": {
   "codemirror_mode": {
    "name": "ipython",
    "version": 3
   },
   "file_extension": ".py",
   "mimetype": "text/x-python",
   "name": "python",
   "nbconvert_exporter": "python",
   "pygments_lexer": "ipython3",
   "version": "3.8.5"
  }
 },
 "nbformat": 4,
 "nbformat_minor": 5
}
