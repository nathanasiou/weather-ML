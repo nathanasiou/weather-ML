{
 "cells": [
  {
   "cell_type": "code",
   "execution_count": 7,
   "id": "1321ddf5",
   "metadata": {},
   "outputs": [],
   "source": [
    "import pandas as pd\n",
    "from datetime import datetime"
   ]
  },
  {
   "cell_type": "code",
   "execution_count": 15,
   "id": "3c97c4aa",
   "metadata": {},
   "outputs": [
    {
     "data": {
      "text/html": [
       "<div>\n",
       "<style scoped>\n",
       "    .dataframe tbody tr th:only-of-type {\n",
       "        vertical-align: middle;\n",
       "    }\n",
       "\n",
       "    .dataframe tbody tr th {\n",
       "        vertical-align: top;\n",
       "    }\n",
       "\n",
       "    .dataframe thead th {\n",
       "        text-align: right;\n",
       "    }\n",
       "</style>\n",
       "<table border=\"1\" class=\"dataframe\">\n",
       "  <thead>\n",
       "    <tr style=\"text-align: right;\">\n",
       "      <th></th>\n",
       "      <th>STATION</th>\n",
       "      <th>NAME</th>\n",
       "      <th>DATE</th>\n",
       "      <th>PRCP</th>\n",
       "      <th>TAVG</th>\n",
       "    </tr>\n",
       "  </thead>\n",
       "  <tbody>\n",
       "    <tr>\n",
       "      <th>0</th>\n",
       "      <td>USW00014837</td>\n",
       "      <td>MADISON DANE CO REGIONAL AIRPORT, WI US</td>\n",
       "      <td>1960-01</td>\n",
       "      <td>2.19</td>\n",
       "      <td>21.1</td>\n",
       "    </tr>\n",
       "    <tr>\n",
       "      <th>1</th>\n",
       "      <td>USW00014837</td>\n",
       "      <td>MADISON DANE CO REGIONAL AIRPORT, WI US</td>\n",
       "      <td>1960-02</td>\n",
       "      <td>1.15</td>\n",
       "      <td>19.7</td>\n",
       "    </tr>\n",
       "    <tr>\n",
       "      <th>2</th>\n",
       "      <td>USW00014837</td>\n",
       "      <td>MADISON DANE CO REGIONAL AIRPORT, WI US</td>\n",
       "      <td>1960-03</td>\n",
       "      <td>1.93</td>\n",
       "      <td>18.3</td>\n",
       "    </tr>\n",
       "    <tr>\n",
       "      <th>3</th>\n",
       "      <td>USW00014837</td>\n",
       "      <td>MADISON DANE CO REGIONAL AIRPORT, WI US</td>\n",
       "      <td>1960-04</td>\n",
       "      <td>4.02</td>\n",
       "      <td>48.1</td>\n",
       "    </tr>\n",
       "    <tr>\n",
       "      <th>4</th>\n",
       "      <td>USW00014837</td>\n",
       "      <td>MADISON DANE CO REGIONAL AIRPORT, WI US</td>\n",
       "      <td>1960-05</td>\n",
       "      <td>6.26</td>\n",
       "      <td>55.1</td>\n",
       "    </tr>\n",
       "  </tbody>\n",
       "</table>\n",
       "</div>"
      ],
      "text/plain": [
       "       STATION                                     NAME     DATE  PRCP  TAVG\n",
       "0  USW00014837  MADISON DANE CO REGIONAL AIRPORT, WI US  1960-01  2.19  21.1\n",
       "1  USW00014837  MADISON DANE CO REGIONAL AIRPORT, WI US  1960-02  1.15  19.7\n",
       "2  USW00014837  MADISON DANE CO REGIONAL AIRPORT, WI US  1960-03  1.93  18.3\n",
       "3  USW00014837  MADISON DANE CO REGIONAL AIRPORT, WI US  1960-04  4.02  48.1\n",
       "4  USW00014837  MADISON DANE CO REGIONAL AIRPORT, WI US  1960-05  6.26  55.1"
      ]
     },
     "execution_count": 15,
     "metadata": {},
     "output_type": "execute_result"
    }
   ],
   "source": [
    "import glob\n",
    "\n",
    "#read in datasets\n",
    "path = r'C:\\Users\\nicol\\OneDrive - UW-Madison\\Documents\\Stat_451\\project' \n",
    "all_files = glob.glob(path + \"/*.csv\")\n",
    "\n",
    "li = []\n",
    "\n",
    "for filename in all_files:\n",
    "    df = pd.read_csv(filename, index_col=None, header=0)\n",
    "    li.append(df)\n",
    "\n",
    "madweather = pd.concat(li, axis=0, ignore_index=True)\n",
    "madweather.head()"
   ]
  },
  {
   "cell_type": "code",
   "execution_count": 16,
   "id": "f5e59a90",
   "metadata": {},
   "outputs": [],
   "source": [
    "#all data came from same station, column not important\n",
    "#drop columns that had missing data for extended time periods\n",
    "del madweather['STATION']\n",
    "del madweather['NAME']\n"
   ]
  },
  {
   "cell_type": "code",
   "execution_count": 17,
   "id": "c833440a",
   "metadata": {},
   "outputs": [
    {
     "data": {
      "text/html": [
       "<div>\n",
       "<style scoped>\n",
       "    .dataframe tbody tr th:only-of-type {\n",
       "        vertical-align: middle;\n",
       "    }\n",
       "\n",
       "    .dataframe tbody tr th {\n",
       "        vertical-align: top;\n",
       "    }\n",
       "\n",
       "    .dataframe thead th {\n",
       "        text-align: right;\n",
       "    }\n",
       "</style>\n",
       "<table border=\"1\" class=\"dataframe\">\n",
       "  <thead>\n",
       "    <tr style=\"text-align: right;\">\n",
       "      <th></th>\n",
       "      <th>DATE</th>\n",
       "      <th>PRCP</th>\n",
       "      <th>TAVG</th>\n",
       "    </tr>\n",
       "  </thead>\n",
       "  <tbody>\n",
       "    <tr>\n",
       "      <th>2159</th>\n",
       "      <td>1959-09</td>\n",
       "      <td>3.44</td>\n",
       "      <td>63.7</td>\n",
       "    </tr>\n",
       "    <tr>\n",
       "      <th>2160</th>\n",
       "      <td>1959-10</td>\n",
       "      <td>5.55</td>\n",
       "      <td>46.5</td>\n",
       "    </tr>\n",
       "    <tr>\n",
       "      <th>2161</th>\n",
       "      <td>1959-11</td>\n",
       "      <td>2.29</td>\n",
       "      <td>27.1</td>\n",
       "    </tr>\n",
       "    <tr>\n",
       "      <th>2162</th>\n",
       "      <td>1959-12</td>\n",
       "      <td>2.45</td>\n",
       "      <td>31.0</td>\n",
       "    </tr>\n",
       "    <tr>\n",
       "      <th>2163</th>\n",
       "      <td>1960-01</td>\n",
       "      <td>2.19</td>\n",
       "      <td>21.1</td>\n",
       "    </tr>\n",
       "  </tbody>\n",
       "</table>\n",
       "</div>"
      ],
      "text/plain": [
       "         DATE  PRCP  TAVG\n",
       "2159  1959-09  3.44  63.7\n",
       "2160  1959-10  5.55  46.5\n",
       "2161  1959-11  2.29  27.1\n",
       "2162  1959-12  2.45  31.0\n",
       "2163  1960-01  2.19  21.1"
      ]
     },
     "execution_count": 17,
     "metadata": {},
     "output_type": "execute_result"
    }
   ],
   "source": [
    "madweather.head()\n",
    "madweather.tail()"
   ]
  },
  {
   "cell_type": "code",
   "execution_count": 18,
   "id": "4f1cb60c",
   "metadata": {},
   "outputs": [],
   "source": [
    "madweather.to_csv(\"madweather.csv\", index = False)\n",
    "\n"
   ]
  },
  {
   "cell_type": "code",
   "execution_count": null,
   "id": "fdd6cd3e",
   "metadata": {},
   "outputs": [],
   "source": []
  }
 ],
 "metadata": {
  "kernelspec": {
   "display_name": "Python 3",
   "language": "python",
   "name": "python3"
  },
  "language_info": {
   "codemirror_mode": {
    "name": "ipython",
    "version": 3
   },
   "file_extension": ".py",
   "mimetype": "text/x-python",
   "name": "python",
   "nbconvert_exporter": "python",
   "pygments_lexer": "ipython3",
   "version": "3.8.5"
  }
 },
 "nbformat": 4,
 "nbformat_minor": 5
}
